{
 "cells": [
  {
   "cell_type": "markdown",
   "metadata": {},
   "source": [
    "# WTForm\n",
    "We use the form offer by flask to let the user submit their ID"
   ]
  },
  {
   "cell_type": "code",
   "execution_count": null,
   "metadata": {},
   "outputs": [],
   "source": [
    "from flask_wtf import Form\n",
    "from wtforms import StringField, SubmitField, validators, PasswordField\n",
    "from wtforms.fields.html5 import EmailField\n",
    "from model import UserID\n",
    "\n",
    "class FormID(Form):\n",
    "    #regaring to model to set the form\n",
    "    ID = StringField('ID', validators=[DataRequired()])\n",
    "    \n",
    "    submit = SubmitField('UserID')\n",
    "    \n",
    "    #ID is the coloum the user of the web service need to fill in\n",
    "    \n",
    "    def validate_ID(self, field):\n",
    "        if UserID.query.filter_by(ID=field.data).first():\n",
    "            raise ValidationError('ID already existed')\n",
    "    # this function is to make sure no duplicated ID in the database"
   ]
  }
 ],
 "metadata": {
  "kernelspec": {
   "display_name": "Python 3",
   "language": "python",
   "name": "python3"
  },
  "language_info": {
   "codemirror_mode": {
    "name": "ipython",
    "version": 3
   },
   "file_extension": ".py",
   "mimetype": "text/x-python",
   "name": "python",
   "nbconvert_exporter": "python",
   "pygments_lexer": "ipython3",
   "version": "3.7.6"
  }
 },
 "nbformat": 4,
 "nbformat_minor": 4
}
