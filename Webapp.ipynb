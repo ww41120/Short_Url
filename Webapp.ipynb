{
 "cells": [
  {
   "cell_type": "code",
   "execution_count": null,
   "metadata": {},
   "outputs": [],
   "source": [
    "from flask import Flask, render_template, request, jsonify, redirect\n",
    "from utils import base62_decode, base62_encode\n",
    "from db import add_url, get_long_url,get_max_index\n",
    "\n",
    "app = Flask(__name__)\n",
    "\n",
    "\n",
    "\n",
    "@app.route('/', methods=['POST', 'GET'])\n",
    "def index():\n",
    "    if request.method == 'GET':\n",
    "        return render_template('index.html')\n",
    "    else:\n",
    "        url = request.form['url']\n",
    "        index = get_max_index()\n",
    "        token = base62_encode(index)\n",
    "        add_url(url, token)\n",
    "        short_url = 'http://127.0.0.1:8002/{token}'.format(token=token)\n",
    "        return jsonify({'short_url': short_url})\n",
    "\n",
    "\n",
    "@app.route('/<token>')\n",
    "def long_url(token):\n",
    "    long_url = get_long_url(token)\n",
    "    return redirect(long_url)\n",
    "\n",
    "\n",
    "if __name__ == '__main__':\n",
    "    app.run(port=8002, threaded=False)"
   ]
  }
 ],
 "metadata": {
  "kernelspec": {
   "display_name": "Python 3",
   "language": "python",
   "name": "python3"
  },
  "language_info": {
   "codemirror_mode": {
    "name": "ipython",
    "version": 3
   },
   "file_extension": ".py",
   "mimetype": "text/x-python",
   "name": "python",
   "nbconvert_exporter": "python",
   "pygments_lexer": "ipython3",
   "version": "3.7.6"
  }
 },
 "nbformat": 4,
 "nbformat_minor": 4
}
