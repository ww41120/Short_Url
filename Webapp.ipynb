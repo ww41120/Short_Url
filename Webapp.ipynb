{
 "cells": [
  {
   "cell_type": "markdown",
   "metadata": {},
   "source": [
    "# The Web service structure:\n",
    "<p>First Step: the customer enter the original Url</p>\n",
    "<p>Second Step: the service record in the database and give the url a record ID</p>\n",
    "<p>Third Step: use encode to do the shorten URL</p>\n",
    "<p>Fourth Step: When the customer click the shorten URL it will decode</p>\n",
    "<p>Final Step: the original URL decode and direct to the website</p>"
   ]
  },
  {
   "cell_type": "code",
   "execution_count": null,
   "metadata": {},
   "outputs": [],
   "source": [
    "from flask import Flask, render_template, request, jsonify, redirect\n",
    "#from utils import base62_decode, base62_encode\n",
    "#from db import add_url, get_long_url,get_max_index\n",
    "\n",
    "\n",
    "app = Flask(__name__)\n",
    "# create a Flask application object inside the variable app\n",
    "\n",
    "\n",
    "@app.route('/index', methods=['POST', 'GET'])\n",
    "def index():\n",
    "    if request.method == 'GET': #GET is used to request data from a specified resource.\n",
    "        return render_template('index.html') # the web page open\n",
    "    \n",
    "    else:\n",
    "        url = request.form['url'] # we get the url from the url table in the database\n",
    "        index = get_max_index()# we get the index\n",
    "        token = base62_encode(index) # we encode it\n",
    "        short_url = 'http://127.0.0.0:8002/{token}'.format(token=token) # we merge it to get the short url# i have problem with the website hrer\n",
    "        return jsonify({'short_url': short_url})\n",
    "#add a route and action with decorator\n",
    "# a route decide how the app will function\n",
    "\n",
    "@app.route('/<token>')\n",
    "def long_url(token):\n",
    "    long_url = get_long_url(token)\n",
    "    return redirect(long_url)\n",
    "# redirect to long url\n",
    "\n",
    "\n",
    "if __name__ == '__main__':\n",
    "    app.run(host='0.0.0.0', port=8002)\n",
    "#conditional statement is satisfied and the app.run() method will be executed."
   ]
  }
 ],
 "metadata": {
  "kernelspec": {
   "display_name": "Python 3",
   "language": "python",
   "name": "python3"
  },
  "language_info": {
   "codemirror_mode": {
    "name": "ipython",
    "version": 3
   },
   "file_extension": ".py",
   "mimetype": "text/x-python",
   "name": "python",
   "nbconvert_exporter": "python",
   "pygments_lexer": "ipython3",
   "version": "3.7.6"
  }
 },
 "nbformat": 4,
 "nbformat_minor": 4
}
