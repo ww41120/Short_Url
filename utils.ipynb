{
 "cells": [
  {
   "cell_type": "markdown",
   "metadata": {},
   "source": [
    "# The logic to shorten the URL:\n",
    "<p>Depend on the order of the client who use the service.</p> <p>The first one who use the service we give 1 to it. The 12345th clent we give 12345 to the client.</p>"
   ]
  },
  {
   "cell_type": "code",
   "execution_count": 1,
   "metadata": {},
   "outputs": [
    {
     "name": "stdout",
     "output_type": "stream",
     "text": [
      "i3mG\n",
      "4302842\n"
     ]
    }
   ],
   "source": [
    "ALPHABET = \"0123456789abcdefghijklmnopqrstuvwxyzABCDEFGHIJKLMNOPQRSTUVWXYZ\"\n",
    "\n",
    "def base62_encode(num, alphabet=ALPHABET):\n",
    "    if (num == 0):\n",
    "        return alphabet[0] \n",
    "    arr = []\n",
    "    base = len(alphabet)\n",
    "    while num:\n",
    "        rem = num % base\n",
    "        num = num // base # if the quotient can still be devided by 62 then the whole loop will run again\n",
    "        arr.append(alphabet[rem])\n",
    "    arr.reverse()\n",
    "    return ''.join(arr)\n",
    "\n",
    "#I need to generate strings which are combinations of [a-z][A-Z][0-9].  \n",
    "#Encoder maps integer to a string. Decoder generates integer from given string.  \n",
    "#They are like Function and Reverse Functions.\n",
    "\n",
    "def base62_decode(string, alphabet=ALPHABET):\n",
    "\n",
    "    base = len(alphabet)\n",
    "    strlen = len(string)\n",
    "    num = 0\n",
    "\n",
    "    idx = 0\n",
    "    for char in string:\n",
    "        power = (strlen - (idx + 1)) # the base to the n power change when the charater change\n",
    "        num += alphabet.index(char) * (base ** power)\n",
    "        idx += 1 # we need to renew the power to do the calculation\n",
    "\n",
    "    return num\n",
    "\n",
    "#The base62_decode function is used to change the base62 system into decimal system\n",
    "\n",
    "\n",
    "if __name__ == '__main__':\n",
    "    print(base62_encode(4302842))\n",
    "    print(base62_decode('i3mG'))"
   ]
  },
  {
   "cell_type": "code",
   "execution_count": null,
   "metadata": {},
   "outputs": [],
   "source": []
  }
 ],
 "metadata": {
  "kernelspec": {
   "display_name": "Python 3",
   "language": "python",
   "name": "python3"
  },
  "language_info": {
   "codemirror_mode": {
    "name": "ipython",
    "version": 3
   },
   "file_extension": ".py",
   "mimetype": "text/x-python",
   "name": "python",
   "nbconvert_exporter": "python",
   "pygments_lexer": "ipython3",
   "version": "3.7.6"
  }
 },
 "nbformat": 4,
 "nbformat_minor": 4
}
