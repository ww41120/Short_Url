{
 "cells": [
  {
   "cell_type": "code",
   "execution_count": 1,
   "metadata": {},
   "outputs": [
    {
     "name": "stdout",
     "output_type": "stream",
     "text": [
      "i3mG\n",
      "4302842\n"
     ]
    }
   ],
   "source": [
    "ALPHABET = \"0123456789abcdefghijklmnopqrstuvwxyzABCDEFGHIJKLMNOPQRSTUVWXYZ\"\n",
    "\n",
    "def base62_encode(num, alphabet=ALPHABET):\n",
    "    if (num == 0):\n",
    "        return alphabet[0]\n",
    "    arr = []\n",
    "    base = len(alphabet)\n",
    "    while num:\n",
    "        rem = num % base\n",
    "        num = num // base\n",
    "        arr.append(alphabet[rem])\n",
    "    arr.reverse()\n",
    "    return ''.join(arr)\n",
    "\n",
    "#The base62_encode function is used to change the decimal system into base62 system\n",
    "# Base62 encoder contains A-Z , a-z, 0–9 total( 26 + 26 + 10 = 62) basically converting a base10 number to hash,\n",
    "# whenever we get a long URL -> get a random number and convert to base62 and use the hash as short URL id.\n",
    "\n",
    "def base62_decode(string, alphabet=ALPHABET):\n",
    "\n",
    "    base = len(alphabet)\n",
    "    strlen = len(string)\n",
    "    num = 0\n",
    "\n",
    "    idx = 0\n",
    "    for char in string:\n",
    "        power = (strlen - (idx + 1))\n",
    "        num += alphabet.index(char) * (base ** power)\n",
    "        idx += 1\n",
    "\n",
    "    return num\n",
    "\n",
    "#The base62_decode function is used to change the base62 system into decimal system\n",
    "\n",
    "\n",
    "if __name__ == '__main__':\n",
    "    print(base62_encode(4302842))\n",
    "    print(base62_decode('i3mG'))"
   ]
  },
  {
   "cell_type": "code",
   "execution_count": null,
   "metadata": {},
   "outputs": [],
   "source": []
  }
 ],
 "metadata": {
  "kernelspec": {
   "display_name": "Python 3",
   "language": "python",
   "name": "python3"
  },
  "language_info": {
   "codemirror_mode": {
    "name": "ipython",
    "version": 3
   },
   "file_extension": ".py",
   "mimetype": "text/x-python",
   "name": "python",
   "nbconvert_exporter": "python",
   "pygments_lexer": "ipython3",
   "version": "3.7.6"
  }
 },
 "nbformat": 4,
 "nbformat_minor": 4
}
