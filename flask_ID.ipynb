{
 "cells": [
  {
   "cell_type": "code",
   "execution_count": null,
   "metadata": {},
   "outputs": [],
   "source": [
    "from flask import Flask, render_template\n",
    "from flask_sqlalchemy import SQLAlchemy\n",
    "from flask_bootstrap import Bootstrap\n",
    "import os\n",
    "\n",
    "\n",
    "app = Flask(__name__)\n",
    "\n",
    "db_name = 'url.db'\n",
    "\n",
    "app.config['SQLALCHEMY_DATABASE_URI'] = 'sqlite:///' + 'url.db'\n",
    "\n",
    "app.config['SQLALCHEMY_TRACK_MODIFICATIONS'] = True\n",
    "\n",
    "\n",
    "# Flask-WTF requires an encryption key - the string can be anything\n",
    "app.config['SECRET_KEY'] = 'C2HWGVoMGfNTBsrYQg8EcMrdTimkZfAb'\n",
    "\n",
    "bootstrap = Bootstrap(app)\n",
    "db = SQLAlchemy(app)\n",
    "\n",
    "# initial setting of the flask and the database"
   ]
  },
  {
   "cell_type": "code",
   "execution_count": null,
   "metadata": {},
   "outputs": [],
   "source": [
    "from model import UserID\n",
    "from form import FormID\n",
    "\n",
    "@app.route('/ID', methods=['GET', 'POST'])\n",
    "def ID():\n",
    "    form =FormID()\n",
    "    if form.validate_on_submit():\n",
    "        user = UserID(\n",
    "            ID= form.ID.data,\n",
    "            \n",
    "        )\n",
    "        db.session.add(user)\n",
    "        db.session.commit()\n",
    "        return 'Success Thank You'\n",
    "    # if the ID is not duplicate then store into the database\n",
    "    return render_template('ID.html', form=form)"
   ]
  }
 ],
 "metadata": {
  "kernelspec": {
   "display_name": "Python 3",
   "language": "python",
   "name": "python3"
  },
  "language_info": {
   "codemirror_mode": {
    "name": "ipython",
    "version": 3
   },
   "file_extension": ".py",
   "mimetype": "text/x-python",
   "name": "python",
   "nbconvert_exporter": "python",
   "pygments_lexer": "ipython3",
   "version": "3.7.6"
  }
 },
 "nbformat": 4,
 "nbformat_minor": 4
}
